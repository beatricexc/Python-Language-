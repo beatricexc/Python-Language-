{
  "nbformat": 4,
  "nbformat_minor": 0,
  "metadata": {
    "colab": {
      "name": "IOC Bootcamp - Beginners Python Tutorial 3.ipynb",
      "provenance": [],
      "collapsed_sections": [],
      "include_colab_link": true
    },
    "kernelspec": {
      "display_name": "Python 3",
      "language": "python",
      "name": "python3"
    },
    "language_info": {
      "codemirror_mode": {
        "name": "ipython",
        "version": 3
      },
      "file_extension": ".py",
      "mimetype": "text/x-python",
      "name": "python",
      "nbconvert_exporter": "python",
      "pygments_lexer": "ipython3",
      "version": "3.7.3"
    }
  },
  "cells": [
    {
      "cell_type": "markdown",
      "metadata": {
        "id": "view-in-github",
        "colab_type": "text"
      },
      "source": [
        "<a href=\"https://colab.research.google.com/github/beatricexc/Python-/blob/main/IOC_Bootcamp_Beginners_Python_Tutorial_3.ipynb\" target=\"_parent\"><img src=\"https://colab.research.google.com/assets/colab-badge.svg\" alt=\"Open In Colab\"/></a>"
      ]
    },
    {
      "cell_type": "markdown",
      "metadata": {
        "id": "wFLnokPKsoee"
      },
      "source": [
        "# IOC Bootcamp - Beginners Python Tutorial 3\n",
        "\n",
        "Author: Dr. Robert Lyon\n",
        "\n",
        "Contact: robert.lyon@edgehill.ac.uk (www.scienceguyrob.com)\n",
        "\n",
        "Institution: Edge Hill University\n",
        "\n",
        "Version: 1.0\n",
        "    \n",
        "## Code & License\n",
        "The code and the contents of this notebook are released under the GNU GENERAL PUBLIC LICENSE, Version 3, 29 June 2007. Any videos are exempt from this, please check the license provided by the video content owners if you would like to use them.\n",
        "\n",
        "## Overview\n",
        "\n",
        "This notebook has been written to support our third weekly tutorial. The aims of ths part of the tutorial are as follows: \n",
        "\n",
        "* To get students to tackle the practice coursework, so they know what is expected from them during the real portfolio coursework tasks.\n",
        "\n",
        "<br/>"
      ]
    },
    {
      "cell_type": "markdown",
      "metadata": {
        "id": "eCYl1QBmtYnS"
      },
      "source": [
        "## Variables\n",
        "\n",
        "Next week we're going to cover what we call **variables**. We'll get a head start here to prepare for that dicussion.\n",
        "\n",
        "<br>\n",
        "\n",
        " Variables can be thought of as storage boxes kept in computer memory. The Python interpreter takes care of exactly where in memory that is. We use variables to store all sorts of useful information in our programs. \n",
        "\n",
        "<br/>\n",
        "\n",
        "The Python interpreter figures out what type variables are for us. It is up to us as programmers to ensure we don’t mix the types, in ways that aren’t intended. \n",
        "\n",
        "<br/>\n",
        "\n",
        "Here's a summary of the variables types to be found in Python.\n",
        "\n",
        "<br/>\n",
        "\n",
        "\n",
        "| Type   | Examples                      | Python Code Example |\n",
        "|--------|-------------------------------|---------------------|\n",
        "|Integer |… -2, -1, 0, 1, 2 …            | x = 1               |\n",
        "|Float   |… -2.1, -1.4, 0.01, 1.2, 2.8...| x = 0.5675          |\n",
        "|String  |hello                          | x = “hello”         |\n",
        "|Boolean |TRUE or FALSE                  | x = True            |\n",
        "\n",
        "\n",
        "<br/>\n",
        "\n",
        "Below is a video which discusses variables in more detail. Please watch this before you continue. If you can see the video, then run the cell first!"
      ]
    },
    {
      "cell_type": "code",
      "metadata": {
        "colab": {
          "base_uri": "https://localhost:8080/",
          "height": 336
        },
        "id": "WY3iTw40sVmz",
        "outputId": "ee8c8cbd-0779-4c53-c14b-84d04605f866"
      },
      "source": [
        "# Import the HTML library\n",
        "from IPython.display import HTML\n",
        "\n",
        "# Load the video from youtube.\n",
        "HTML('<iframe width=\"560\" height=\"315\" \\\n",
        "src=\"https://www.youtube.com/embed/cQT33yu9pY8\" \\\n",
        "frameborder=\"0\" allow=\"accelerometer; autoplay; \"\\\n",
        "\"encrypted-media; gyroscope; picture-in-picture\" allowfullscreen></iframe>')"
      ],
      "execution_count": 1,
      "outputs": [
        {
          "output_type": "execute_result",
          "data": {
            "text/html": [
              "<iframe width=\"560\" height=\"315\" src=\"https://www.youtube.com/embed/cQT33yu9pY8\" frameborder=\"0\" allow=\"accelerometer; autoplay; \"\"encrypted-media; gyroscope; picture-in-picture\" allowfullscreen></iframe>"
            ],
            "text/plain": [
              "<IPython.core.display.HTML object>"
            ]
          },
          "metadata": {},
          "execution_count": 1
        }
      ]
    },
    {
      "cell_type": "markdown",
      "metadata": {
        "id": "EirDqrKFsmq3"
      },
      "source": [
        "Now we've watched the video, let’s explore variables in more detail - and tackle some challenges. Read through the cell below and execute it when ready - remember to follow the comments for guidance too."
      ]
    },
    {
      "cell_type": "code",
      "metadata": {
        "colab": {
          "base_uri": "https://localhost:8080/"
        },
        "id": "4fOkDmZvsmIn",
        "outputId": "7c00b095-333c-40d2-8967-85119b7983f1"
      },
      "source": [
        "# Let's create some variables, and play with the \"standard library\" functions \n",
        "# that come bult-in to Python that are available to us.\n",
        "#\n",
        "# The code below creates an integer variable. Remember, integers are\n",
        "# whole numbers (e.g. -1, 0, 1 etc.).\n",
        "number_1 = 1\n",
        "\n",
        "# We can verify the data type of the variable using the type() command:\n",
        "print(\"Type of variable 'number_1': \", type(number_1))\n",
        "\n",
        "# We can also obtain unique identifier for the variable too. To do this we use\n",
        "# the id() command. When a variable is created, it is assigned a unique \n",
        "# identifier by the Python interpreter. This allows the variable to be\n",
        "# tracked and managed appropriately in memory. The ID is a bit like a national\n",
        "# insurance number. Better yet, think of the ID as a pointer to a variable that\n",
        "# is stored in memory somewhere.\n",
        "print(\"ID of variable 'number_1': \", id(number_1))\n",
        "\n",
        "\n",
        "# Now let's try and change the value of number_1\n",
        "number_1 = 2\n",
        "\n",
        "# What impact does this have on the variable ID?\n",
        "print(\"ID of variable 'number_1' after updating: \", id(number_1))\n"
      ],
      "execution_count": null,
      "outputs": [
        {
          "output_type": "stream",
          "name": "stdout",
          "text": [
            "Type of variable 'number_1':  <class 'int'>\n",
            "ID of variable 'number_1':  93882426149376\n",
            "ID of variable 'number_1' after updating:  93882426149408\n"
          ]
        }
      ]
    },
    {
      "cell_type": "markdown",
      "metadata": {
        "id": "F80o4Sz1uOqv"
      },
      "source": [
        "We can see above that changing the value of the variable *number_1* from 1 to 2, changed it's identifier. So, what happened here? Well, changing the variable created a new variable. This new variable is stored in a different location in memory, which the updated ID points to. What happens if we try and change the value back?"
      ]
    },
    {
      "cell_type": "code",
      "metadata": {
        "colab": {
          "base_uri": "https://localhost:8080/"
        },
        "id": "2f9r6TrkuSS8",
        "outputId": "4ba13728-eb19-487d-fc7d-dcc38035a8a3"
      },
      "source": [
        "# Now let's try and change the value of number_1 back to 1\n",
        "number_1 = 1\n",
        "\n",
        "# What impact does this have on the variable ID? Compare the value of\n",
        "# the ID to the value first reported above.\n",
        "print(\"ID of variable 'number_1' after changing back: \", id(number_1))"
      ],
      "execution_count": null,
      "outputs": [
        {
          "output_type": "stream",
          "name": "stdout",
          "text": [
            "ID of variable 'number_1' after changing back:  93882426149376\n"
          ]
        }
      ]
    },
    {
      "cell_type": "markdown",
      "metadata": {
        "id": "m4PaAfZ0uVZB"
      },
      "source": [
        "We find that the ID has returned to the original value outputted. This shows that the original value of *number_1* is still in memory, and now we're simply pointing back to it. This becomes important in situations where we need to write efficient programs that use as little memory as possible - for example, when writing applications for mobile devices. So keep in mind the variables you declare and how much memory you are using. Only use the variables you actually need. Now we explore some other variables."
      ]
    },
    {
      "cell_type": "code",
      "metadata": {
        "id": "jo8v-CPsuVoC"
      },
      "source": [
        "# The code below creates a floating-point variable (a float). Floats\n",
        "# are numbers with fractional components (e.g. -1.21, 0.001, 1.483 etc.).\n",
        "number_1 = 1.999\n",
        "\n",
        "# We can verify the data type of the variable using the type() command:\n",
        "print(\"Type of variable 'number_1': \", type(number_1))\n",
        "\n",
        "# The code below creates a string variable (a str). Remember, strings\n",
        "# are just textual variables.\n",
        "text = \"a string\"\n",
        "\n",
        "# We can verify the data type of the variable using the type() command:\n",
        "print(\"Type of variable 'text': \", type(text))\n",
        "\n",
        "# Strings support other functions, which can tell us something about their \n",
        "# characteristics. One such function is the len() command. It returns the\n",
        "# length of the string. \n",
        "print(\"Length of variable 'text': \", len(text))"
      ],
      "execution_count": null,
      "outputs": []
    },
    {
      "cell_type": "markdown",
      "metadata": {
        "id": "k2MizR3luVvH"
      },
      "source": [
        "There's a handy function *isinstance()* that can help you determine what type a variable is."
      ]
    },
    {
      "cell_type": "code",
      "metadata": {
        "id": "PobOCdW0uV26"
      },
      "source": [
        "text = \"string\"\n",
        "number_1 = 1\n",
        "number_2 = 1.0\n",
        "\n",
        "print(\"Is 'text' of the string type?: \", isinstance(text,str))\n",
        "print(\"Is 'number_1' of the int type?: \", isinstance(number_1,int))\n",
        "print(\"Is 'number_2' of the float type?: \", isinstance(number_2,float))\n",
        "print(\"Is 'number_1' of the float type?: \", isinstance(number_1,float))"
      ],
      "execution_count": null,
      "outputs": []
    },
    {
      "cell_type": "markdown",
      "metadata": {
        "id": "I6fEkFARuV-x"
      },
      "source": [
        "We can also change the type of our variables by assigning them new values. Consider the code example below. Try to predict what the output will be. Only run it after making a prediction - no cheating please!"
      ]
    },
    {
      "cell_type": "code",
      "metadata": {
        "colab": {
          "base_uri": "https://localhost:8080/"
        },
        "id": "Cns8i9_WuWI_",
        "outputId": "068ba104-4417-49d1-8919-ba4ff4fb5ef6"
      },
      "source": [
        "x = 100\n",
        "print(\"Type of variable 'x': \", type(x))\n",
        "print(\"The value of 'x': \", x)\n",
        "\n",
        "x = \"Rob\"\n",
        "print(\"Type of variable 'x': \", type(x))\n",
        "print(\"The value of 'x': \", x)"
      ],
      "execution_count": null,
      "outputs": [
        {
          "output_type": "stream",
          "name": "stdout",
          "text": [
            "Type of variable 'x':  <class 'int'>\n",
            "The value of 'x':  100\n",
            "Type of variable 'x':  <class 'str'>\n",
            "The value of 'x':  Rob\n"
          ]
        }
      ]
    },
    {
      "cell_type": "markdown",
      "metadata": {
        "id": "Qz9bYLR8uWQr"
      },
      "source": [
        "What happened here? First, we created $x$ and assigned it a numerical value. The Python interpreter correctly determined that the numerical type of this value was an integer (a whole number). The interpreter then set aside the correct amount of memory needed to store an integer. When we then updated the value of $x$, we assigned it a string – i.e. a textual value. The interpreter realised this and updated the type of $x$ for us. Pretty neat. \n",
        "\n",
        "<br>\n",
        "\n",
        "Here’s something to think about though – what would take up more memory: the integer 100, or a string defined as “100”? Lets’ find out. \n",
        "\n",
        "<br>\n",
        "\n",
        "Read the cell below and try to understand what’s going on. There are some new syntactic elements introduced. I’ve used the ```import``` statement here to import something called ```sys```. What’s this doing? Well in Python there are standard libraries (the code library that comes with a Python installation) that we can use to solve common problems. One of the libraries is called ```sys``` short for “system”. I happen to know that inside ```sys``` there is a function (we will explain this term in later weeks) already written that will tell me the size of things. So rather than me writing code to figure this out, I’ll just import the function from the standard library. This saves me time and effort. \n",
        "\n",
        "<br>\n",
        "\n",
        "Let’s see what the output is – run the code when ready.\n"
      ]
    },
    {
      "cell_type": "code",
      "metadata": {
        "colab": {
          "base_uri": "https://localhost:8080/"
        },
        "id": "oKFLuXgsuWXo",
        "outputId": "cf22b97b-10f7-448c-ee3d-be4b03b15e0d"
      },
      "source": [
        "import sys\n",
        "\n",
        "x = 100\n",
        "print(\"The size of x is: \", sys.getsizeof(x), \" and it's type is: \", type(x))\n",
        "\n",
        "x = \"100\"\n",
        "print(\"The size of x is: \", sys.getsizeof(x), \" and it's type is: \", type(x))"
      ],
      "execution_count": null,
      "outputs": [
        {
          "output_type": "stream",
          "name": "stdout",
          "text": [
            "The size of x is:  28  and it's type is:  <class 'int'>\n",
            "The size of x is:  52  and it's type is:  <class 'str'>\n"
          ]
        }
      ]
    },
    {
      "cell_type": "markdown",
      "metadata": {
        "id": "0erctcykyUOg"
      },
      "source": [
        "We’ve learned that it takes 28 bytes to store the integer 100, and 52 to store the string “100”. This is useful to know. If we want to write efficient code, then in this case using a numerical type helps save memory. Remember, there are 8-bits in a byte (see [here](https://en.wikipedia.org/wiki/Byte)) which means its taking 224 bits of memory to store 100. Put another way, that’s this many:\n",
        "\n",
        "```01010100 01101000 01100001 01110100 00100111 01110011 00100000 01100001 00100000 01101100 01101111 01110100 00100000 01101111 01100110 00100000 01100010 01101001 01110100 01110011 00101110 00101110 00101110 00101110 00101110 00101110 00101110 00101110```\n",
        "\n",
        "Notice anything else about the last code sample? Checkout the print statements I used. I was able to output more than one piece of information in the ```print()``` statement using commas. The commas are useful as they allow us to tell the interpreter to print out lots of separate pieces of information. For example, suppose I try to print information out without commas – what do you think will happen? Run the code below to find out.\n"
      ]
    },
    {
      "cell_type": "code",
      "metadata": {
        "colab": {
          "base_uri": "https://localhost:8080/",
          "height": 131
        },
        "id": "G8FIPuWl0aug",
        "outputId": "b6a13e1e-b088-49d0-acd3-e680614befb2"
      },
      "source": [
        "x = 1\n",
        "y = \"Rob\"\n",
        "print(x y)"
      ],
      "execution_count": null,
      "outputs": [
        {
          "output_type": "error",
          "ename": "SyntaxError",
          "evalue": "ignored",
          "traceback": [
            "\u001b[0;36m  File \u001b[0;32m\"<ipython-input-3-50dfda6446d7>\"\u001b[0;36m, line \u001b[0;32m3\u001b[0m\n\u001b[0;31m    print(x y)\u001b[0m\n\u001b[0m            ^\u001b[0m\n\u001b[0;31mSyntaxError\u001b[0m\u001b[0;31m:\u001b[0m invalid syntax\n"
          ]
        }
      ]
    },
    {
      "cell_type": "markdown",
      "metadata": {
        "id": "bkBRCJBD0gQM"
      },
      "source": [
        "I encountered an invalid syntax error here – do you have an idea why? What happens is the interpreter starts to read the information we wish to print out. It first sees the x, which is an integer type. Then it encounters the y, a string type. We don’t specify how we want these to be treated in the print statement, so the interpreter doesn’t know what to do. Should it try to concatenate these or treat them as separate items?\n",
        "\n",
        "<br>\n",
        "\n",
        "Using a comma, we explain to the interpreter that these are two separate items that we would like printing it. Take a look at the example code below. Try to predict what the output may be. Only after you’ve made some predictions should you run the code. Now, I’m not going to explain the output to you – this time you will use logic to explain what must have happened.\n"
      ]
    },
    {
      "cell_type": "code",
      "metadata": {
        "colab": {
          "base_uri": "https://localhost:8080/"
        },
        "id": "peuXCE6c1VhS",
        "outputId": "adbb5082-cc5c-4517-b71a-1384072cee33"
      },
      "source": [
        "x = 1\n",
        "y = \"Rob\"\n",
        "\n",
        "print(x, y)\n",
        "print(\"This is x: \", x, \" and this is y: \", y)\n",
        "print(x + 1, \"Dr. \" + y)\n"
      ],
      "execution_count": null,
      "outputs": [
        {
          "output_type": "stream",
          "name": "stdout",
          "text": [
            "1 Rob\n",
            "This is x:  1  and this is y:  Rob\n",
            "2 Dr. Rob\n"
          ]
        }
      ]
    },
    {
      "cell_type": "markdown",
      "metadata": {
        "id": "ddLsD0IZ18C3"
      },
      "source": [
        "## Practice Coursework Help\n",
        "\n",
        "Well done for reading this far. Here is a practical example of the hint for the practice coursework, shown in the coursework document.\n",
        "\n",
        "<br>\n",
        "\n",
        "The practice coursework document contains code as follows:"
      ]
    },
    {
      "cell_type": "code",
      "metadata": {
        "id": "I3Sl3PTB2WPA"
      },
      "source": [
        "def add(v1, v2):\n",
        "    \"\"\"\n",
        "    Returns the arithmetic sum of two numbers.\n",
        "\n",
        "    :param v1: the first value.\n",
        "    :param v2: the second value.\n",
        "\n",
        "    :return: the sum of the numbers.\n",
        "    \"\"\"\n",
        "    return # nothing returned here…\n",
        "\n",
        "\n",
        "def subtract(v1, v2):\n",
        "    \"\"\"\n",
        "    Subtracts one number from another.\n",
        "\n",
        "    :param v1: the first value.\n",
        "    :param v2: the second value.\n",
        "\n",
        "    :return: the value of v1 minus the value of v2.\n",
        "    \"\"\"\n",
        "\n",
        "    return # nothing returned here…\n"
      ],
      "execution_count": null,
      "outputs": []
    },
    {
      "cell_type": "markdown",
      "metadata": {
        "id": "wuJt98P62lwC"
      },
      "source": [
        "The code above contains two functions - think of these as two separate input-output boxes that perform some action. We've already seen functions and used them. The ```print()``` command that we've been using is a function. It accepts input between it's parentheses (the $($ and $)$ symbols) and prints that input to standard out.\n",
        "\n",
        "<br>\n",
        "\n",
        "The functions defined in the cell above are called ```add`` and ```subtract```. These two functions do something very simple - add exactly two numbers together, or subtract one number from another, respectively. Both functions thus accept two input **parameters**. These are called $v1$ and $v2$. These parameters could represent any values, like how in algebra $x$ and $y$ are often used to represent some unknown numbers.\n",
        "\n",
        "<br>\n",
        "\n",
        "The functions are used when a user passes in some real values, e.g. ```add(4,8)``` which should return 12. However, at present the function is incomplete as it returns nothing. For a hint, suppose we have another incomplete function defined below.\n"
      ]
    },
    {
      "cell_type": "markdown",
      "metadata": {
        "id": "eljqD0Hl2b6E"
      },
      "source": [
        "If you try to run this code, nothing happens."
      ]
    },
    {
      "cell_type": "code",
      "metadata": {
        "id": "lE25Xj3k2aIJ"
      },
      "source": [
        "def divide(v1, v2):\n",
        "    \"\"\"\n",
        "    Divides two numbers.\n",
        "\n",
        "    :param v1: the first value.\n",
        "    :param v2: the second value.\n",
        "\n",
        "    :return: the value of v1 divided by the value of v2.\n",
        "    \"\"\"\n",
        "\n",
        "    return # nothing returned here…\n",
        "\n",
        "\n",
        "print(divide(10, 2))"
      ],
      "execution_count": null,
      "outputs": []
    },
    {
      "cell_type": "markdown",
      "metadata": {
        "id": "F2USGjPF4ZLs"
      },
      "source": [
        "What if I edit the code as shown below – do you understand why the output has now changed. This is big hint for the practice assignment."
      ]
    },
    {
      "cell_type": "code",
      "metadata": {
        "colab": {
          "base_uri": "https://localhost:8080/"
        },
        "id": "PWvcTabh4Y-J",
        "outputId": "e65c0570-7024-4883-e858-648085c3dbe7"
      },
      "source": [
        "def divide(v1, v2):\n",
        "    \"\"\"\n",
        "    Divides two numbers.\n",
        "\n",
        "    :param v1: the first value.\n",
        "    :param v2: the second value.\n",
        "\n",
        "    :return: the value of v1 divided by the value of v2.\n",
        "    \"\"\"\n",
        "\n",
        "    return v1 / v2\n",
        "\n",
        "\n",
        "print(divide(10, 2))\n",
        "print(divide(100, 2))\n",
        "print(divide(2, 6))"
      ],
      "execution_count": null,
      "outputs": [
        {
          "output_type": "stream",
          "name": "stdout",
          "text": [
            "5.0\n",
            "50.0\n",
            "0.3333333333333333\n"
          ]
        }
      ]
    }
  ]
}