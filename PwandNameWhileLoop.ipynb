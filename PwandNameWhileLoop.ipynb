{
  "nbformat": 4,
  "nbformat_minor": 0,
  "metadata": {
    "colab": {
      "name": "PwandNameWhileLoop.ipynb",
      "provenance": [],
      "authorship_tag": "ABX9TyO6FXjxv9G7x5Zn2VQSrVY6",
      "include_colab_link": true
    },
    "kernelspec": {
      "name": "python3",
      "display_name": "Python 3"
    },
    "language_info": {
      "name": "python"
    }
  },
  "cells": [
    {
      "cell_type": "markdown",
      "metadata": {
        "id": "view-in-github",
        "colab_type": "text"
      },
      "source": [
        "<a href=\"https://colab.research.google.com/github/beatricexc/Python-Party/blob/main/PwandNameWhileLoop.ipynb\" target=\"_parent\"><img src=\"https://colab.research.google.com/assets/colab-badge.svg\" alt=\"Open In Colab\"/></a>"
      ]
    },
    {
      "cell_type": "code",
      "metadata": {
        "colab": {
          "base_uri": "https://localhost:8080/"
        },
        "id": "Vrvdc6vVw2e0",
        "outputId": "54ddc1c7-1d22-4895-99e7-6ac493c2e21e"
      },
      "source": [
        "while True:\n",
        "  print('Who are you?')\n",
        "  name = input()\n",
        "  if name != 'Jojo':\n",
        "    continue\n",
        "  print('Hello, Jojo. What is the password? (It is a fish)')\n",
        "  password = input()\n",
        "  if password == 'swordfish':\n",
        "    break\n",
        "print('Access Granted.')"
      ],
      "execution_count": 2,
      "outputs": [
        {
          "output_type": "stream",
          "name": "stdout",
          "text": [
            "Who are you?\n",
            "Jojo\n",
            "Hello, Jojo. What is the password? (It is a fish)\n",
            "swordfis\n",
            "Who are you?\n",
            "Jojo\n",
            "Hello, Jojo. What is the password? (It is a fish)\n",
            "swordfish\n",
            "Access Granted.\n"
          ]
        }
      ]
    }
  ]
}