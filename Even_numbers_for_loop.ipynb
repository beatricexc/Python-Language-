{
  "nbformat": 4,
  "nbformat_minor": 0,
  "metadata": {
    "colab": {
      "name": "Even numbers for loop.ipynb",
      "provenance": [],
      "authorship_tag": "ABX9TyPUfg0cuLq+2ky5sF3s5PrR",
      "include_colab_link": true
    },
    "kernelspec": {
      "name": "python3",
      "display_name": "Python 3"
    },
    "language_info": {
      "name": "python"
    }
  },
  "cells": [
    {
      "cell_type": "markdown",
      "metadata": {
        "id": "view-in-github",
        "colab_type": "text"
      },
      "source": [
        "<a href=\"https://colab.research.google.com/github/beatricexc/Python-Party/blob/main/Even_numbers_for_loop.ipynb\" target=\"_parent\"><img src=\"https://colab.research.google.com/assets/colab-badge.svg\" alt=\"Open In Colab\"/></a>"
      ]
    },
    {
      "cell_type": "code",
      "metadata": {
        "colab": {
          "base_uri": "https://localhost:8080/"
        },
        "id": "DurFDSvpG3AB",
        "outputId": "53223e8f-3bde-4f90-b484-80ddf0680484"
      },
      "source": [
        "count = 0\n",
        "for number in range(1,10):\n",
        "  if number % 2 == 0: \n",
        "    count += 1\n",
        "    print(number)\n",
        "print(f\"We have {count} even numbers.\")"
      ],
      "execution_count": 5,
      "outputs": [
        {
          "output_type": "stream",
          "name": "stdout",
          "text": [
            "2\n",
            "4\n",
            "6\n",
            "8\n",
            "We have 4 even numbers.\n"
          ]
        }
      ]
    },
    {
      "cell_type": "code",
      "metadata": {
        "colab": {
          "base_uri": "https://localhost:8080/"
        },
        "id": "232xNT48HtyD",
        "outputId": "58ec6f1d-1c3d-45aa-d8bd-9eedcc37f0db"
      },
      "source": [
        "pyramid_width = int(input(\"Insert any positive numerical value to see something nice:  \"))\n",
        "for i in range (0, pyramid_width):\n",
        "  for j in range (0, pyramid_width-i):\n",
        "    print (\" \", end=\"\")\n",
        "  for k in range (0, 2 * i + 1):\n",
        "    print(\"0\", end=\"\")\n",
        "  print(\"\")"
      ],
      "execution_count": 6,
      "outputs": [
        {
          "output_type": "stream",
          "name": "stdout",
          "text": [
            "Insert any positive numerical value to see something nice:  39\n",
            "                                       0\n",
            "                                      000\n",
            "                                     00000\n",
            "                                    0000000\n",
            "                                   000000000\n",
            "                                  00000000000\n",
            "                                 0000000000000\n",
            "                                000000000000000\n",
            "                               00000000000000000\n",
            "                              0000000000000000000\n",
            "                             000000000000000000000\n",
            "                            00000000000000000000000\n",
            "                           0000000000000000000000000\n",
            "                          000000000000000000000000000\n",
            "                         00000000000000000000000000000\n",
            "                        0000000000000000000000000000000\n",
            "                       000000000000000000000000000000000\n",
            "                      00000000000000000000000000000000000\n",
            "                     0000000000000000000000000000000000000\n",
            "                    000000000000000000000000000000000000000\n",
            "                   00000000000000000000000000000000000000000\n",
            "                  0000000000000000000000000000000000000000000\n",
            "                 000000000000000000000000000000000000000000000\n",
            "                00000000000000000000000000000000000000000000000\n",
            "               0000000000000000000000000000000000000000000000000\n",
            "              000000000000000000000000000000000000000000000000000\n",
            "             00000000000000000000000000000000000000000000000000000\n",
            "            0000000000000000000000000000000000000000000000000000000\n",
            "           000000000000000000000000000000000000000000000000000000000\n",
            "          00000000000000000000000000000000000000000000000000000000000\n",
            "         0000000000000000000000000000000000000000000000000000000000000\n",
            "        000000000000000000000000000000000000000000000000000000000000000\n",
            "       00000000000000000000000000000000000000000000000000000000000000000\n",
            "      0000000000000000000000000000000000000000000000000000000000000000000\n",
            "     000000000000000000000000000000000000000000000000000000000000000000000\n",
            "    00000000000000000000000000000000000000000000000000000000000000000000000\n",
            "   0000000000000000000000000000000000000000000000000000000000000000000000000\n",
            "  000000000000000000000000000000000000000000000000000000000000000000000000000\n",
            " 00000000000000000000000000000000000000000000000000000000000000000000000000000\n"
          ]
        }
      ]
    },
    {
      "cell_type": "markdown",
      "metadata": {
        "id": "7E18hmQfSxB5"
      },
      "source": [
        "Write a nested for loop program to print multiplication table in Python"
      ]
    },
    {
      "cell_type": "code",
      "metadata": {
        "colab": {
          "base_uri": "https://localhost:8080/"
        },
        "id": "-OvRRNJhS2N0",
        "outputId": "b723b559-61d3-4564-b7e4-3035d191f1d5"
      },
      "source": [
        "#outer loop\n",
        "for i in range(1,11):\n",
        "  # nested loop\n",
        "  # to iterate from 1 to 10\n",
        "  for j in range (1,11):\n",
        "    #print multiplication\n",
        "    print(i * j, end=\" \")\n",
        "    print()"
      ],
      "execution_count": 7,
      "outputs": [
        {
          "output_type": "stream",
          "name": "stdout",
          "text": [
            "1 \n",
            "2 \n",
            "3 \n",
            "4 \n",
            "5 \n",
            "6 \n",
            "7 \n",
            "8 \n",
            "9 \n",
            "10 \n",
            "2 \n",
            "4 \n",
            "6 \n",
            "8 \n",
            "10 \n",
            "12 \n",
            "14 \n",
            "16 \n",
            "18 \n",
            "20 \n",
            "3 \n",
            "6 \n",
            "9 \n",
            "12 \n",
            "15 \n",
            "18 \n",
            "21 \n",
            "24 \n",
            "27 \n",
            "30 \n",
            "4 \n",
            "8 \n",
            "12 \n",
            "16 \n",
            "20 \n",
            "24 \n",
            "28 \n",
            "32 \n",
            "36 \n",
            "40 \n",
            "5 \n",
            "10 \n",
            "15 \n",
            "20 \n",
            "25 \n",
            "30 \n",
            "35 \n",
            "40 \n",
            "45 \n",
            "50 \n",
            "6 \n",
            "12 \n",
            "18 \n",
            "24 \n",
            "30 \n",
            "36 \n",
            "42 \n",
            "48 \n",
            "54 \n",
            "60 \n",
            "7 \n",
            "14 \n",
            "21 \n",
            "28 \n",
            "35 \n",
            "42 \n",
            "49 \n",
            "56 \n",
            "63 \n",
            "70 \n",
            "8 \n",
            "16 \n",
            "24 \n",
            "32 \n",
            "40 \n",
            "48 \n",
            "56 \n",
            "64 \n",
            "72 \n",
            "80 \n",
            "9 \n",
            "18 \n",
            "27 \n",
            "36 \n",
            "45 \n",
            "54 \n",
            "63 \n",
            "72 \n",
            "81 \n",
            "90 \n",
            "10 \n",
            "20 \n",
            "30 \n",
            "40 \n",
            "50 \n",
            "60 \n",
            "70 \n",
            "80 \n",
            "90 \n",
            "100 \n"
          ]
        }
      ]
    }
  ]
}