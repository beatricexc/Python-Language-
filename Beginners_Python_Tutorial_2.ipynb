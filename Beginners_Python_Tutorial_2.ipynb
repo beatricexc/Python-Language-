{
  "nbformat": 4,
  "nbformat_minor": 0,
  "metadata": {
    "colab": {
      "name": "Beginners Python Tutorial 2.ipynb",
      "provenance": [],
      "collapsed_sections": [],
      "toc_visible": true,
      "include_colab_link": true
    },
    "kernelspec": {
      "display_name": "Python 3",
      "language": "python",
      "name": "python3"
    },
    "language_info": {
      "codemirror_mode": {
        "name": "ipython",
        "version": 3
      },
      "file_extension": ".py",
      "mimetype": "text/x-python",
      "name": "python",
      "nbconvert_exporter": "python",
      "pygments_lexer": "ipython3",
      "version": "3.7.3"
    }
  },
  "cells": [
    {
      "cell_type": "markdown",
      "metadata": {
        "id": "view-in-github",
        "colab_type": "text"
      },
      "source": [
        "<a href=\"https://colab.research.google.com/github/beatricexc/Python-Party/blob/main/Beginners_Python_Tutorial_2.ipynb\" target=\"_parent\"><img src=\"https://colab.research.google.com/assets/colab-badge.svg\" alt=\"Open In Colab\"/></a>"
      ]
    },
    {
      "cell_type": "markdown",
      "metadata": {
        "id": "f65jRNmNqc9m"
      },
      "source": [
        "\n",
        "    \n",
        "## Code & License\n",
        "The code and the contents of this notebook are released under the GNU GENERAL PUBLIC LICENSE, Version 3, 29 June 2007. Any videos are exempt from this, please check the license provided by the video content owners if you would like to use them.\n",
        "\n",
        "## Overview\n",
        "\n",
        "This notebook has been written to support our second weekly tutorial. The aims of ths part of the tutorial are as follows: \n",
        "* To help students understand Python syntax.\n",
        "* To help students understand comments and why they are important.\n",
        "* To get students thinking like the Python interpreter.\n",
        "\n",
        "<br/>\n"
      ]
    },
    {
      "cell_type": "markdown",
      "metadata": {
        "id": "CpYr6QGTq7DN"
      },
      "source": [
        "# Using This Resource\n",
        "\n",
        "I advise that you step through each cell in this notebook slowly, at your own pace. Once you understand each cell, move on. This is important as each cell builds upon the next. Industry activities are provided near the end of the notebook. Enjoy!\n",
        "\n",
        "<br/>\n",
        "\n",
        "Remember, each cell is supposed to be executed in turn from the top to the bottom of this notebook. So, keep that in mind!"
      ]
    },
    {
      "cell_type": "markdown",
      "metadata": {
        "id": "5qSAhzserMM6"
      },
      "source": [
        "## Lines of Code\n",
        "\n",
        "In Python, lines of code terminate with the end of the line. Any comments that appear in a line are ignored by the interpreter when reading code, so these don't interfere with our line endings. When writing code in the Colab code cells, whenever we press the enter key, we effectively create a new line. Let's consider some examples to support this intuition. Read the line of code below - what do you think will be printed when we run it?"
      ]
    },
    {
      "cell_type": "code",
      "metadata": {
        "id": "ZGWLTpIHbRfR"
      },
      "source": [
        "age = 35 # age = 34\n",
        "print(age)"
      ],
      "execution_count": null,
      "outputs": []
    },
    {
      "cell_type": "markdown",
      "metadata": {
        "id": "XaQrd0uibniM"
      },
      "source": [
        "Notice that when we run this code, the value 35 was printed out. Thus, the code I wrote after the hash symbol (#) was ignored by the interpreter since it signified a comment line. This is why the value of age wasn't updated. This example contained two distinct lines of code.\n",
        "\n",
        "<br>\n",
        "\n",
        "Sometimes when writing code, for human readability reasons we may want to break code up over one or more lines. But we want the interpreter to treat the code as a single line. It is possible to this in Python with the line continuation character. This is represented using a backslash ($\\$). When the interpreter reads a continuation character, it realises that we want it to continue reading any code that follows as belonging to the same line. Take a look at the code below and then execute it. Is the output as you expect?"
      ]
    },
    {
      "cell_type": "code",
      "metadata": {
        "id": "avdCsZk0c-Hu",
        "colab": {
          "base_uri": "https://localhost:8080/"
        },
        "outputId": "dc56fd30-e46b-4566-b1bc-e4a85f3192da"
      },
      "source": [
        "x = 4 + \\\n",
        "5\n",
        "print(x)"
      ],
      "execution_count": null,
      "outputs": [
        {
          "output_type": "stream",
          "name": "stdout",
          "text": [
            "9\n"
          ]
        }
      ]
    },
    {
      "cell_type": "markdown",
      "metadata": {
        "id": "gMz4ivXPdYST"
      },
      "source": [
        "Using this continuation line, we are able to split up a line for readability, but have it treated as a single line by the interpreter. For such simple examples this is a bit of daft thing to do. We don't need the backslash here - but in real world examples, we often need to use this. What happens if we don't use a continuation character here? Run the code below to find out."
      ]
    },
    {
      "cell_type": "code",
      "metadata": {
        "id": "3ycxoTOSeH-G",
        "colab": {
          "base_uri": "https://localhost:8080/",
          "height": 132
        },
        "outputId": "d1d308b8-e067-40d3-b66d-4e41fee917ac"
      },
      "source": [
        "x = 4 + \n",
        "5\n",
        "print(x)"
      ],
      "execution_count": null,
      "outputs": [
        {
          "output_type": "error",
          "ename": "SyntaxError",
          "evalue": "ignored",
          "traceback": [
            "\u001b[0;36m  File \u001b[0;32m\"<ipython-input-2-4618db7915f1>\"\u001b[0;36m, line \u001b[0;32m1\u001b[0m\n\u001b[0;31m    x = 4 +\u001b[0m\n\u001b[0m            ^\u001b[0m\n\u001b[0;31mSyntaxError\u001b[0m\u001b[0;31m:\u001b[0m invalid syntax\n"
          ]
        }
      ]
    },
    {
      "cell_type": "markdown",
      "metadata": {
        "id": "k9uLWII2eILD"
      },
      "source": [
        "Because we didn't use the continuation character, we encountered a **syntax error**. This is the interpreter’s way of telling us the syntax of our code is invalid. It's clear why - even in regular mathematics, a statement such as **4 +** is not valid unless there is another term following the plus sign. Whilst the following line that just contains the number 5 is also invalid. It's a little like writing a sentence in English like:\n",
        "\n",
        "*the*\n",
        "\n",
        "It has no meaning and syntactically invalid (no full stop etc). We most often use continuation characters when printing out long lines of text. For instance, if providing the user of an application with guidance or key information. An example of this is provided below. Run the code to double check the output.\n"
      ]
    },
    {
      "cell_type": "code",
      "metadata": {
        "id": "huF4UXeBfuhr",
        "colab": {
          "base_uri": "https://localhost:8080/"
        },
        "outputId": "65e1c8d8-66cf-4d1d-821a-89ca18234846"
      },
      "source": [
        "print(\"Sometimes we may have a great deal of text that we wish to print out \"\\\n",
        "      \"but according to Python style guides, we shouldn't write lines of code \"\\\n",
        "      \"greater than 79 characters long. Hence using the continuation character, \"\\\n",
        "      \" I can get around this restriction.\")\n"
      ],
      "execution_count": null,
      "outputs": [
        {
          "output_type": "stream",
          "name": "stdout",
          "text": [
            "Sometimes we may have a great deal of text that we wish to print out but according to Python style guides, we shouldn't write lines of code greater than 79 characters long. Hence using the continuation character,  I can get around this restriction.\n"
          ]
        }
      ]
    },
    {
      "cell_type": "markdown",
      "metadata": {
        "id": "nymDkynBhkUv"
      },
      "source": [
        "Notice how all this information is printed out on one line? \n",
        "\n",
        "<br>\n",
        "\n",
        "Also notice how I had to break up the lines too? When we print out text using the, ```print()``` command, the text must be placed between double quotes, ```\"like this\"```. This allows the interpreter to figure out that anything between the double quote pairs, is to be treated as text. For instance, 5 is a number but ```\"5\"``` is text containing the character 5. I can do maths with the number 5, but I can't do maths with the text ```\"5\"``` (we'll try that shortly!). \n",
        "\n",
        "<br>\n",
        "\n",
        "We accept that the text I wanted to print has to be within a of double quotes. When the interpreter sees the quote character (\") it expects the following information it reads to be text until it sees another double quote character. \n",
        "\n",
        "<br>\n",
        "\n",
        "I couldn't therefore put the continuation character in-between the double quotes. If I had then the interpreter wouldn't have seen the continuation character as a request to carry on reading the next line, but as a backslash to include in some text.\n",
        "\n",
        "<br>\n",
        "\n",
        "The output of my code here is also a bit difficult to read, since the output line is very long. I can fix that using the newline character. This is specified using ```\\n```. Take a look at the following code sample and then run it.\n"
      ]
    },
    {
      "cell_type": "code",
      "metadata": {
        "id": "WFYd3mTRjwzY",
        "colab": {
          "base_uri": "https://localhost:8080/"
        },
        "outputId": "2d7e5aec-8dde-47fd-909f-1b61778e3794"
      },
      "source": [
        "print(\"Sometimes we may have a great deal of text that we wish to print out\\n\"\\\n",
        "      \"but according to Python style guides, we shouldn't write lines of code\\n\"\\\n",
        "      \"greater than 79 characters long. Hence using the continuation character,\\n\"\\\n",
        "      \" I can get around this restriction.\")"
      ],
      "execution_count": null,
      "outputs": [
        {
          "output_type": "stream",
          "name": "stdout",
          "text": [
            "Sometimes we may have a great deal of text that we wish to print out\n",
            "but according to Python style guides, we shouldn't write lines of code\n",
            "greater than 79 characters long. Hence using the continuation character,\n",
            " I can get around this restriction.\n"
          ]
        }
      ]
    },
    {
      "cell_type": "markdown",
      "metadata": {
        "id": "U4AjquPMkChv"
      },
      "source": [
        "The output is now much neater. Let's head back to the idea I had of trying to add text. Let's see what happens in the code sample below."
      ]
    },
    {
      "cell_type": "code",
      "metadata": {
        "id": "1okIQGIdkb11",
        "colab": {
          "base_uri": "https://localhost:8080/"
        },
        "outputId": "e20d4e61-a3fc-4d45-c4d4-3a3dd998ed84"
      },
      "source": [
        "print(\"5\" + \"5\")"
      ],
      "execution_count": null,
      "outputs": [
        {
          "output_type": "stream",
          "name": "stdout",
          "text": [
            "55\n"
          ]
        }
      ]
    },
    {
      "cell_type": "markdown",
      "metadata": {
        "id": "CiTrD1y_keYE"
      },
      "source": [
        "This Cleary isn't the output we may have expected - or is it? We can't add text in a numerical sense, as that has no meaning. But we can join text together. This is called concatenation. This is what we have done here, concatenate two text sequences."
      ]
    },
    {
      "cell_type": "markdown",
      "metadata": {
        "id": "F74sfGe4lDkb"
      },
      "source": [
        "## Code Blocks\n",
        "\n",
        "In Python, blocks of code are separated using indentation. Indentation can be expressed using whitespace or tabs. The PEP8 style standard four Python (discussed further down) recommends four spaces per indentation level - this is equal to one-tab character. What does this look like in practice.... take a look at the code in the cell below. Try to understand it, then run it when ready.\n",
        "\n"
      ]
    },
    {
      "cell_type": "code",
      "metadata": {
        "colab": {
          "base_uri": "https://localhost:8080/"
        },
        "id": "AabRk34xrfYm",
        "outputId": "8fd52952-3635-4a23-8a8c-74e3579c9f27"
      },
      "source": [
        "print(\"This block is not indented.\") # First print command.\n",
        "\n",
        "a = 1\n",
        "b = 2\n",
        "\n",
        "if a == 1:\n",
        "  print(\"This block is indented by one.\") # Second print command.\n",
        "\n",
        "  if b ==2:\n",
        "    print(\"This block is indented by two.\") # Third print command."
      ],
      "execution_count": null,
      "outputs": [
        {
          "output_type": "stream",
          "name": "stdout",
          "text": [
            "This block is not indented.\n",
            "This block is indented by one.\n",
            "This block is indented by two.\n"
          ]
        }
      ]
    },
    {
      "cell_type": "markdown",
      "metadata": {
        "id": "Ruxjj8ScsLCd"
      },
      "source": [
        "It may not be obvious what’s happening here - but let's read the code as though it were written in English. it effectively says...\n",
        "\n",
        "<br>\n",
        "\n",
        "```\n",
        "Print out the first piece of text.\n",
        "\n",
        "Set a equal to one.\n",
        "Set b equal to 2.\n",
        "\n",
        "if a is equal to one, then print out the text in the block directly below the if.\n",
        "\n",
        "if a is equal to one and if b is equal to 2, then print out the text in the block directly below the second if.\n",
        "```\n",
        "<br>\n",
        "\n",
        "Understanding the **if**-statements doesn't matter for now, we'll come back to them. What matters is that you can see and understand that the code below the if statements is indented. Those indented blocks of code belong together and are independent of one another. \n",
        "\n",
        "<br>\n",
        "\n",
        "You can think about it this way - the first ```print()``` command is in a block that contains itself, the definitions of $a$ and $b$, and the first **if** statement.\n",
        "\n",
        "<br>\n",
        "\n",
        "The second ```print()``` command is in a block that contains itself and the second **if** statement.\n",
        "\n",
        "<br>\n",
        "\n",
        "The final ```print()``` command is in a block by itself.\n",
        "\n",
        "<br>\n",
        "\n",
        "Take a look a the code below and try to determine what block you think the new print statement I've added is in.\n",
        "\n"
      ]
    },
    {
      "cell_type": "code",
      "metadata": {
        "id": "CfyDsSnhtwGR",
        "colab": {
          "base_uri": "https://localhost:8080/"
        },
        "outputId": "d1aeba84-2305-4fb1-85b9-be831b600236"
      },
      "source": [
        "print(\"This block is not indented.\") # First print command.\n",
        "\n",
        "a = 1\n",
        "b = 2\n",
        "\n",
        "if a == 1:\n",
        "  print(\"This block is indented by one.\") # Second print command.\n",
        "\n",
        "  if b ==2:\n",
        "    print(\"This block is indented by two.\") # Third print command.\n",
        "\n",
        "  print(\"Which block is this statement in?\")"
      ],
      "execution_count": null,
      "outputs": [
        {
          "output_type": "stream",
          "name": "stdout",
          "text": [
            "This block is not indented.\n",
            "This block is indented by one.\n",
            "This block is indented by two.\n",
            "Which block is this statement in?\n"
          ]
        }
      ]
    },
    {
      "cell_type": "markdown",
      "metadata": {
        "id": "uixJ0ljFuG0J"
      },
      "source": [
        "This new piece of code is in the same block as the second print command. This is because they are at the same indentation level.\n",
        "\n",
        "<br>\n",
        "\n",
        "What we have here is actually a primitive definition of a block of code. But it was necessary to start in this way to build a base to work from. We'll soon learn about new ways to define blocks of code in Python as we pick up some language keywords. These are words with a special meaning that the interpreter understands.\n"
      ]
    },
    {
      "cell_type": "markdown",
      "metadata": {
        "id": "rHPzLLTLlHW2"
      },
      "source": [
        "## Code Standards\n",
        "\n",
        "When writing code, we try to adhere to some common-sense standards. These vary from language to language, based on the syntax. Python has been designed for code simplicity and readability. We've already covered the Zen of Python during the lectures that feeds into this. \n",
        "\n",
        "<br>\n",
        "\n",
        "The designer of Python advocated an approach to writing code that was never actually written down. Eventually, style guides and best practices were formalised and written down. Such guides were ultimately incorporated as into Python as the de-facto and recommended approach to Python programming. This was done via a Python Enhancement Proposal (PEP) - a mechanism via which engineers could recommend language improvements. PEP8 included a set of coding style standards. There now exists automated tools that you can use to cheek that your code adheres to such standards. Below is a link to one such tool. I recommend getting into the habit of following the [PEP8 style guide](https://www.python.org/dev/peps/pep-0008/).\n",
        "\n",
        "[PEP8 Code Standards Checker](http://pep8online.com/)\n"
      ]
    },
    {
      "cell_type": "markdown",
      "metadata": {
        "id": "-LeZGSP_lLbF"
      },
      "source": [
        "## Activities\n",
        "\n",
        "Let's try some more complicated activities. Each activity below is described and a potential solution that applies (for me at least) is given in some cases. It's up to you to write solutions that work for you.\n",
        "\n",
        "### Activity 1.1 - Giant Letters\n",
        "\n",
        "The goal here is to print out a short version of your name using only the asterisk character. For example, my full name is Robert, but I want to print out Rob so that it looks like the following:\n",
        "\n",
        "```\n",
        "****   ****  *****         \n",
        "*   *  *  *  *   *\n",
        "*   *  *  *  ****  \n",
        "* *    *  *  *   *     \n",
        "*   *  *  *  *   *\n",
        "*    * ****  *****  \n",
        "```\n",
        "\n",
        "You can decide exactly how to print it, but you must use the asterisk. No crazy ASCII art needed - that’s my job! Feel free to attempt something as complex as this (but don't copy from the internet, like I did :P ).\n",
        "\n",
        "```\n",
        "                       .-.\n",
        "                      |_:_|\n",
        "                     /(_Y_)\\\n",
        ".                   ( \\/M\\/ )\n",
        " '.               _.'-/'-'\\-'._\n",
        "   ':           _/.--'[[[[]'--.\\_\n",
        "     ':        /_'  : |::\"| :  '.\\\n",
        "       ':     //   ./ |oUU| \\.'  :\\\n",
        "         ':  _:'..' \\_|___|_/ :   :|\n",
        "           ':.  .'  |_[___]_|  :.':\\\n",
        "            [::\\ |  :  | |  :   ; : \\\n",
        "             '-'   \\/'.| |.' \\  .;.' |\n",
        "             |\\_    \\  '-'   :       |\n",
        "             |  \\    \\ .:    :   |   |\n",
        "             |   \\    | '.   :    \\  |\n",
        "             /       \\   :. .;       |\n",
        "            /     |   |  :__/     :  \\\\\n",
        "           |  |   |    \\:   | \\   |   ||\n",
        "          /    \\  : :  |:   /  |__|   /|\n",
        "          |     : : :_/_|  /'._\\  '--|_\\\n",
        "          /___.-/_|-'   \\  \\\n",
        "                         '-'\n",
        "```\n",
        "\n",
        "Write you code in the cell below."
      ]
    },
    {
      "cell_type": "code",
      "metadata": {
        "colab": {
          "base_uri": "https://localhost:8080/"
        },
        "id": "2VgdGxhKwvFU",
        "outputId": "0a2ed7ff-d853-461e-b01d-202ce6c92944"
      },
      "source": [
        "# Your giant letters attempt.\n",
        "print('''\n",
        "*  *  *  *  *  *       *  *  *  *  *  *            *                      *\n",
        "            \n",
        "*                      *                           *                      * \n",
        "\n",
        "*                      *                           *                      *\n",
        "\n",
        "*                      *  *  *  *  *  *            *                      *\n",
        "\n",
        "*                      *                           *                      *\n",
        "\n",
        "*                      *                           *                      *\n",
        "\n",
        "*  *  *  *  *  *       *  *  *  *  *  *            *  *  *  *  *  *       *\n",
        "\n",
        "''')\n",
        "\n"
      ],
      "execution_count": null,
      "outputs": [
        {
          "output_type": "stream",
          "name": "stdout",
          "text": [
            "\n",
            "*  *  *  *  *  *       *  *  *  *  *  *            *                      *\n",
            "            \n",
            "*                      *                           *                      * \n",
            "\n",
            "*                      *                           *                      *\n",
            "\n",
            "*                      *  *  *  *  *  *            *                      *\n",
            "\n",
            "*                      *                           *                      *\n",
            "\n",
            "*                      *                           *                      *\n",
            "\n",
            "*  *  *  *  *  *       *  *  *  *  *  *            *  *  *  *  *  *       *\n",
            "\n",
            "\n"
          ]
        }
      ]
    },
    {
      "cell_type": "markdown",
      "metadata": {
        "id": "nv-pmiXBw9HI"
      },
      "source": [
        "\n",
        "### Activity 1.2 - What you say?\n",
        "\n",
        "Write an application that can read in some text from a user and print it out.\n",
        "\n",
        "He's a piece of code that will help you - when you want to retrieve input from a user you can write:\n",
        "\n",
        "```\n",
        "txt = input(\"Type something to test this out: \")\n",
        "```\n",
        "\n",
        "The user input is stored in ```txt``` but you could call this anything (this is a variable called txt, and we'll talk about variables in detail soon).\n",
        "\n"
      ]
    },
    {
      "cell_type": "code",
      "metadata": {
        "id": "ZsEp24hLw8RQ"
      },
      "source": [
        "# Your code here\n",
        "\n",
        "person1_says=input(\"Hello, how are you today? \\n\")\n"
      ],
      "execution_count": null,
      "outputs": []
    },
    {
      "cell_type": "markdown",
      "metadata": {
        "id": "dtCYPgfKzS2W"
      },
      "source": [
        "### Activity 1.3 - Hi Sir Isaac (waves).\n",
        "\n",
        "Newton's second law of motion can be described by the equation:\n",
        "\n",
        "<br>\n",
        "\n",
        "$resultant force = mass × acceleration$\n",
        "\n",
        "<br>\n",
        "\n",
        "where\n",
        "\n",
        "* force (F) is measured in newtons (N).\n",
        "* mass (m) is measured in kilograms (kg).\n",
        "* acceleration (a) is measured in metres per second squared (m/s2)\n",
        "\n",
        "Calculate using Python the force required to accelerate me (Rob) at 4 metres per second squared. Assume I weight 82 KG (not counting lockdown weight).\n",
        "\n",
        "Calculate the force and print it out."
      ]
    },
    {
      "cell_type": "code",
      "metadata": {
        "id": "bw8G1VEK0oYs",
        "colab": {
          "base_uri": "https://localhost:8080/"
        },
        "outputId": "992bb865-7c8a-492d-ca93-38088f84934c"
      },
      "source": [
        "# Your code here\n",
        "rob_mass = 82 \n",
        "acceleration_a= 4\n",
        "force_F=rob_mass*acceleration_a\n",
        "print(force_F, 'N')"
      ],
      "execution_count": null,
      "outputs": [
        {
          "output_type": "stream",
          "name": "stdout",
          "text": [
            "328 N\n"
          ]
        }
      ]
    }
  ]
}