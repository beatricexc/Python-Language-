{
  "nbformat": 4,
  "nbformat_minor": 0,
  "metadata": {
    "colab": {
      "name": "Nested Loops and Patterns in Python.ipynb",
      "provenance": [],
      "authorship_tag": "ABX9TyP0UKYSHidFhZFRIbR7RJ99",
      "include_colab_link": true
    },
    "kernelspec": {
      "name": "python3",
      "display_name": "Python 3"
    },
    "language_info": {
      "name": "python"
    }
  },
  "cells": [
    {
      "cell_type": "markdown",
      "metadata": {
        "id": "view-in-github",
        "colab_type": "text"
      },
      "source": [
        "<a href=\"https://colab.research.google.com/github/beatricexc/Python-Party/blob/main/Nested_Loops_and_Patterns_in_Python.ipynb\" target=\"_parent\"><img src=\"https://colab.research.google.com/assets/colab-badge.svg\" alt=\"Open In Colab\"/></a>"
      ]
    },
    {
      "cell_type": "markdown",
      "metadata": {
        "id": "o5ZH7-peHnWg"
      },
      "source": [
        "**Level 0: Print 0-2 three times one after the other**"
      ]
    },
    {
      "cell_type": "code",
      "metadata": {
        "colab": {
          "base_uri": "https://localhost:8080/"
        },
        "id": "aEJg8ADlHfhe",
        "outputId": "1154bccf-80a7-47fb-8d5a-143416e96d96"
      },
      "source": [
        "#introductory for loop\n",
        "for i in range(3):\n",
        "  for j in range (3):\n",
        "    print(i,j)"
      ],
      "execution_count": 3,
      "outputs": [
        {
          "output_type": "stream",
          "name": "stdout",
          "text": [
            "0 0\n",
            "0 1\n",
            "0 2\n",
            "1 0\n",
            "1 1\n",
            "1 2\n",
            "2 0\n",
            "2 1\n",
            "2 2\n"
          ]
        }
      ]
    },
    {
      "cell_type": "markdown",
      "metadata": {
        "id": "OkJaoWzVH-iI"
      },
      "source": [
        "**Create a list of integer tasks dates Jan 2010 - Dec 2011** \n",
        "Integer data example: Jan 2010--> 201001"
      ]
    },
    {
      "cell_type": "code",
      "metadata": {
        "colab": {
          "base_uri": "https://localhost:8080/"
        },
        "id": "EW5QlQtdIIOp",
        "outputId": "b99c10ec-fade-400b-f689-a51b04fb1404"
      },
      "source": [
        "Dates = []\n",
        "start = 201001\n",
        "\n",
        "for i in range(2):\n",
        "  for j in range(12):\n",
        "      Dates.append(start+j)\n",
        "  start = start + 100 #the start value is being reset by adding 100 once the loop has finished iterating the first round of 12 values\n",
        "Dates\n",
        "    "
      ],
      "execution_count": 14,
      "outputs": [
        {
          "output_type": "execute_result",
          "data": {
            "text/plain": [
              "[201001,\n",
              " 201002,\n",
              " 201003,\n",
              " 201004,\n",
              " 201005,\n",
              " 201006,\n",
              " 201007,\n",
              " 201008,\n",
              " 201009,\n",
              " 201010,\n",
              " 201011,\n",
              " 201012,\n",
              " 201101,\n",
              " 201102,\n",
              " 201103,\n",
              " 201104,\n",
              " 201105,\n",
              " 201106,\n",
              " 201107,\n",
              " 201108,\n",
              " 201109,\n",
              " 201110,\n",
              " 201111,\n",
              " 201112]"
            ]
          },
          "metadata": {},
          "execution_count": 14
        }
      ]
    },
    {
      "cell_type": "markdown",
      "metadata": {
        "id": "S3kZrhVvLJgh"
      },
      "source": [
        "**Building a Triangle**"
      ]
    },
    {
      "cell_type": "code",
      "metadata": {
        "colab": {
          "base_uri": "https://localhost:8080/"
        },
        "id": "1LGOxMumLPYo",
        "outputId": "3e697de6-203a-43ad-c25c-984a002871c7"
      },
      "source": [
        "#Understanding the argument\n",
        "for i in range(3):\n",
        "  print('#', end='') "
      ],
      "execution_count": 16,
      "outputs": [
        {
          "output_type": "stream",
          "name": "stdout",
          "text": [
            "###"
          ]
        }
      ]
    },
    {
      "cell_type": "markdown",
      "metadata": {
        "id": "89x46AZQLie4"
      },
      "source": [
        "**Build the Triangle**"
      ]
    },
    {
      "cell_type": "code",
      "metadata": {
        "colab": {
          "base_uri": "https://localhost:8080/"
        },
        "id": "TLMr7Z6iLm6X",
        "outputId": "ae67273d-babf-4f32-b1b9-4a409c10973a"
      },
      "source": [
        "for i in range(3):\n",
        "  for j in range(i):\n",
        "    print('#', end='')\n",
        "  print('#')"
      ],
      "execution_count": 18,
      "outputs": [
        {
          "output_type": "stream",
          "name": "stdout",
          "text": [
            "#\n",
            "##\n",
            "###\n"
          ]
        }
      ]
    },
    {
      "cell_type": "markdown",
      "metadata": {
        "id": "3B-Fe-hsMeMn"
      },
      "source": [
        "**Building a pyramid**"
      ]
    },
    {
      "cell_type": "code",
      "metadata": {
        "colab": {
          "base_uri": "https://localhost:8080/"
        },
        "id": "6iH-RkSzMjaT",
        "outputId": "ee726c93-2038-4613-bd9e-892b9db91d22"
      },
      "source": [
        "for i in range(3):\n",
        "  for j in range(3-i):\n",
        "    print(' ', end='')\n",
        "  print('#')"
      ],
      "execution_count": 19,
      "outputs": [
        {
          "output_type": "stream",
          "name": "stdout",
          "text": [
            "   #\n",
            "  #\n",
            " #\n"
          ]
        }
      ]
    },
    {
      "cell_type": "code",
      "metadata": {
        "colab": {
          "base_uri": "https://localhost:8080/"
        },
        "id": "lI1mhNN-NR9A",
        "outputId": "36dca203-2583-4a8b-dbcf-672ef22591c4"
      },
      "source": [
        "x = int(input('Define size of pyramid: '))\n",
        "for i in range(x):\n",
        "  for j in range(x-i):\n",
        "    print(' ', end='')\n",
        "  for j in range(i):\n",
        "    print('#', end='')\n",
        "  for j in range(i):\n",
        "    print('#', end='')\n",
        "  print('#')"
      ],
      "execution_count": 26,
      "outputs": [
        {
          "output_type": "stream",
          "name": "stdout",
          "text": [
            "Define size of pyramid: 17\n",
            "                 #\n",
            "                ###\n",
            "               #####\n",
            "              #######\n",
            "             #########\n",
            "            ###########\n",
            "           #############\n",
            "          ###############\n",
            "         #################\n",
            "        ###################\n",
            "       #####################\n",
            "      #######################\n",
            "     #########################\n",
            "    ###########################\n",
            "   #############################\n",
            "  ###############################\n",
            " #################################\n"
          ]
        }
      ]
    },
    {
      "cell_type": "markdown",
      "metadata": {
        "id": "8AGKKiTLOren"
      },
      "source": [
        "**Nested List Comprehension**\n"
      ]
    },
    {
      "cell_type": "code",
      "metadata": {
        "colab": {
          "base_uri": "https://localhost:8080/"
        },
        "id": "iNqj9HRiOygv",
        "outputId": "82220b6f-0828-4d35-b035-b9d2b3b677ed"
      },
      "source": [
        "for i in range(3):\n",
        "  for j in range(3):\n",
        "    print(j)\n",
        "\n",
        "nestedlist = [[j for j in range(3)] for i in range(3)]\n",
        "nestedlist"
      ],
      "execution_count": 28,
      "outputs": [
        {
          "output_type": "stream",
          "name": "stdout",
          "text": [
            "0\n",
            "1\n",
            "2\n",
            "0\n",
            "1\n",
            "2\n",
            "0\n",
            "1\n",
            "2\n"
          ]
        },
        {
          "output_type": "execute_result",
          "data": {
            "text/plain": [
              "[[0, 1, 2], [0, 1, 2], [0, 1, 2]]"
            ]
          },
          "metadata": {},
          "execution_count": 28
        }
      ]
    }
  ]
}