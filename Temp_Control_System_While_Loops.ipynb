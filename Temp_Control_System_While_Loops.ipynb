{
  "nbformat": 4,
  "nbformat_minor": 0,
  "metadata": {
    "colab": {
      "name": "Temp Control System While Loops.ipynb",
      "provenance": [],
      "authorship_tag": "ABX9TyMEkmVSIRuMoTJkg76ufVej",
      "include_colab_link": true
    },
    "kernelspec": {
      "name": "python3",
      "display_name": "Python 3"
    },
    "language_info": {
      "name": "python"
    }
  },
  "cells": [
    {
      "cell_type": "markdown",
      "metadata": {
        "id": "view-in-github",
        "colab_type": "text"
      },
      "source": [
        "<a href=\"https://colab.research.google.com/github/beatricexc/Python-Party/blob/main/Temp_Control_System_While_Loops.ipynb\" target=\"_parent\"><img src=\"https://colab.research.google.com/assets/colab-badge.svg\" alt=\"Open In Colab\"/></a>"
      ]
    },
    {
      "cell_type": "markdown",
      "metadata": {
        "id": "BxdKg4u62sIf"
      },
      "source": [
        ""
      ]
    },
    {
      "cell_type": "markdown",
      "metadata": {
        "id": "jxREfy5G2h1Q"
      },
      "source": [
        "Testing a monitoring system that will turn on a heating controller when the temperature gets too low below (19 degrees Celsius) using while loops."
      ]
    },
    {
      "cell_type": "code",
      "metadata": {
        "colab": {
          "base_uri": "https://localhost:8080/"
        },
        "id": "Au5CGneS2Ylh",
        "outputId": "64920236-7965-46c7-b3f0-3d44518572ce"
      },
      "source": [
        "# This is the start temperature in degrees Celsius.\n",
        "temperature = 20.0\n",
        "\n",
        "# How much heat is lost in Celsius per minute\n",
        "heat_loss_rate = 0.05\n",
        "\n",
        "# The time in minutes measured by the heating system.\n",
        "time_in_mins = 0.0\n",
        "\n",
        "# The number of minutes we'll test the system for.\n",
        "test_runtime = 30.0\n",
        "\n",
        "# The rate at which the heating system is currently configured to\n",
        "# produce heat - 0.1 Celsius increase per minute.\n",
        "heating_rate = 0.1\n",
        "\n",
        "# While we are testing the heating system\n",
        "while time_in_mins < test_runtime:\n",
        "  \n",
        "  # Get current temperature due to natural heat loss,\n",
        "  # e.g. due to open windows, doors etc.\n",
        "  temperature = temperature - heat_loss_rate\n",
        "  print(\"Current temperature: \", temperature)\n",
        "  \n",
        "  # If the temperature drops too low\n",
        "  if temperature < 19.0:\n",
        "    \n",
        "    # Turn on the heating\n",
        "    print(\"Turning on the heating system - heating rate (Celsius per minute): \"\n",
        "          , heating_rate)\n",
        "    \n",
        "    # Turn on the heater:\n",
        "    temperature += heating_rate\n",
        "  \n",
        "  # Update the timer for the test.\n",
        "  time_in_mins += 1"
      ],
      "execution_count": 1,
      "outputs": [
        {
          "output_type": "stream",
          "name": "stdout",
          "text": [
            "Current temperature:  19.95\n",
            "Current temperature:  19.9\n",
            "Current temperature:  19.849999999999998\n",
            "Current temperature:  19.799999999999997\n",
            "Current temperature:  19.749999999999996\n",
            "Current temperature:  19.699999999999996\n",
            "Current temperature:  19.649999999999995\n",
            "Current temperature:  19.599999999999994\n",
            "Current temperature:  19.549999999999994\n",
            "Current temperature:  19.499999999999993\n",
            "Current temperature:  19.449999999999992\n",
            "Current temperature:  19.39999999999999\n",
            "Current temperature:  19.34999999999999\n",
            "Current temperature:  19.29999999999999\n",
            "Current temperature:  19.24999999999999\n",
            "Current temperature:  19.19999999999999\n",
            "Current temperature:  19.149999999999988\n",
            "Current temperature:  19.099999999999987\n",
            "Current temperature:  19.049999999999986\n",
            "Current temperature:  18.999999999999986\n",
            "Turning on the heating system - heating rate (Celsius per minute):  0.1\n",
            "Current temperature:  19.049999999999986\n",
            "Current temperature:  18.999999999999986\n",
            "Turning on the heating system - heating rate (Celsius per minute):  0.1\n",
            "Current temperature:  19.049999999999986\n",
            "Current temperature:  18.999999999999986\n",
            "Turning on the heating system - heating rate (Celsius per minute):  0.1\n",
            "Current temperature:  19.049999999999986\n",
            "Current temperature:  18.999999999999986\n",
            "Turning on the heating system - heating rate (Celsius per minute):  0.1\n",
            "Current temperature:  19.049999999999986\n",
            "Current temperature:  18.999999999999986\n",
            "Turning on the heating system - heating rate (Celsius per minute):  0.1\n",
            "Current temperature:  19.049999999999986\n",
            "Current temperature:  18.999999999999986\n",
            "Turning on the heating system - heating rate (Celsius per minute):  0.1\n"
          ]
        }
      ]
    }
  ]
}