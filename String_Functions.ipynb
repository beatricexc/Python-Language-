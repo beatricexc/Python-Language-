{
  "nbformat": 4,
  "nbformat_minor": 0,
  "metadata": {
    "colab": {
      "name": "String Functions.ipynb",
      "provenance": [],
      "authorship_tag": "ABX9TyNs/VmgO3OMERVPHCG1cqTv"
    },
    "kernelspec": {
      "name": "python3",
      "display_name": "Python 3"
    },
    "language_info": {
      "name": "python"
    }
  },
  "cells": [
    {
      "cell_type": "code",
      "metadata": {
        "id": "yTqudjcVUk4H"
      },
      "source": [
        ""
      ],
      "execution_count": null,
      "outputs": []
    },
    {
      "cell_type": "markdown",
      "metadata": {
        "id": "Cvc6i0bOUspf"
      },
      "source": [
        "1.Get the first character in string, print it out.\n",
        "Get the last character in string, print it out.\n",
        "Get the middle word in string, print it out.\n",
        "Use slicing to get the substring \"awe\" from the input.\n",
        "Return the first index of the '_' character in the string.\n",
        "Return the last index of the '_' character in the string."
      ]
    },
    {
      "cell_type": "code",
      "metadata": {
        "colab": {
          "base_uri": "https://localhost:8080/"
        },
        "id": "KyLABFB1Uwkn",
        "outputId": "dd6ee583-66e7-4868-8b0c-cd95777d88b7"
      },
      "source": [
        "# Here's the string to use:\n",
        "text = \"testing_your_awesome_python_skills\"\n",
        "\n",
        "# Write your code here.\n",
        "print(\"First character: \", text[0])\n",
        "\n",
        "#Get the last character in string, print it out.\n",
        "print(\"The last charachter is: \", text[len(text)-1])\n",
        "\n",
        "#Get the middle word in string, print it out.\n",
        "words = text.split('_')\n",
        "print(\"Middle word:\", words[2])\n",
        "\n",
        "#Use slicing to get the substring \"awe\" from the input.\n",
        "#Well, I already have the middle word which obtained above.\n",
        "# So I just need to get the first three characters from that string.\n",
        "print(\"Getting 'awe':\", words[2][0:3])\n",
        "\n",
        "# 5. Return the first index of the '_' character in the string.\n",
        "print(\"First index of '_':\", text.index('_'))\n",
        "\n",
        "# 6. Return the last index of the '_' character in the string.\n",
        "print(\"Last index of '_':\", text.rindex('_'))"
      ],
      "execution_count": 1,
      "outputs": [
        {
          "output_type": "stream",
          "name": "stdout",
          "text": [
            "First character:  t\n",
            "The last charachter is:  s\n",
            "Middle word: awesome\n",
            "Getting 'awe': awe\n",
            "First index of '_': 7\n",
            "Last index of '_': 27\n"
          ]
        }
      ]
    },
    {
      "cell_type": "markdown",
      "metadata": {
        "id": "Hx2jLdM5U8c_"
      },
      "source": [
        "2. Create a function that converta a list of percentages to their decimal equivalents. So for example, it should covert \"1%\", \"2%\", \"3%\" into 0.01, 0.02, 0.03."
      ]
    },
    {
      "cell_type": "code",
      "metadata": {
        "colab": {
          "base_uri": "https://localhost:8080/"
        },
        "id": "fzWS6hhDVf_y",
        "outputId": "89a07ff7-f2ea-42c3-f76d-ce48f5e24aed"
      },
      "source": [
        "def decimal_converter(percentage):\n",
        "  return float(percentage.replace(\"%\",\"\")) /100\n",
        "\n",
        "print(decimal_converter(\"1%\"))\n",
        "print(decimal_converter(\"10%\"))\n",
        "print(decimal_converter(\"100%\"))"
      ],
      "execution_count": 3,
      "outputs": [
        {
          "output_type": "stream",
          "name": "stdout",
          "text": [
            "0.01\n",
            "0.1\n",
            "1.0\n"
          ]
        }
      ]
    },
    {
      "cell_type": "markdown",
      "metadata": {
        "id": "nyAu-pvrVlLv"
      },
      "source": [
        "<br>\n",
        "\n",
        "3.Create a function that returns ```True``` if a given string has any of the following:\n",
        "\n",
        "* Only letters and no numbers.\n",
        "* Only numbers and no letters.\n",
        "\n",
        "If a string has both numbers and letters, or contains characters which don't fit into any category, return ```False```.\n",
        "\n",
        "<br>\n"
      ]
    },
    {
      "cell_type": "code",
      "metadata": {
        "colab": {
          "base_uri": "https://localhost:8080/"
        },
        "id": "7JK79yUAVssP",
        "outputId": "57fc8aee-2c42-46b2-8925-71c889677602"
      },
      "source": [
        "def alphanumeric_restriction(s):\n",
        "    if s.isnumeric():\n",
        "        return True\n",
        "    elif s.isalpha():\n",
        "        return True\n",
        "    else:\n",
        "        return False\n",
        "\n",
        "print(alphanumeric_restriction(\"ab\"))\n",
        "print(alphanumeric_restriction(\"ab1cd\"))\n",
        "print(alphanumeric_restriction(\"1048\"))"
      ],
      "execution_count": 4,
      "outputs": [
        {
          "output_type": "stream",
          "name": "stdout",
          "text": [
            "True\n",
            "False\n",
            "True\n"
          ]
        }
      ]
    },
    {
      "cell_type": "code",
      "metadata": {
        "id": "0te2gN0lV97X"
      },
      "source": [
        ""
      ],
      "execution_count": null,
      "outputs": []
    },
    {
      "cell_type": "markdown",
      "metadata": {
        "id": "1PGfzc2HV3TG"
      },
      "source": [
        "<br>\n",
        "\n",
        "4. Create a function that returns ```True``` if a given inequality expression is correct and ```False``` otherwise.\n",
        "\n",
        "<br>"
      ]
    },
    {
      "cell_type": "code",
      "metadata": {
        "colab": {
          "base_uri": "https://localhost:8080/"
        },
        "id": "OS7m-vGeV_u3",
        "outputId": "8b49bfd5-8b96-4765-ec63-34893e7aa43f"
      },
      "source": [
        "def correct_signs(txt):\n",
        "  \n",
        "\tchars = txt.split(\" \")\n",
        "\tfor i in range(2, len(chars), 2):\n",
        "\t\tif chars[i-1] == \">\":\n",
        "\t\t\tif not(int(chars[i-2]) > int(chars[i])):\n",
        "\t\t\t\treturn False\n",
        "\t\telif not(int(chars[i-2]) < int(chars[i])):\n",
        "\t\t\treturn False\n",
        "\treturn True\n",
        "\n",
        "print(correct_signs(\"1 < 3\"))\n",
        "print(correct_signs(\"4 > 3 > 1\"))\n",
        "print(correct_signs(\"4 > 8\"))"
      ],
      "execution_count": 5,
      "outputs": [
        {
          "output_type": "stream",
          "name": "stdout",
          "text": [
            "True\n",
            "True\n",
            "False\n"
          ]
        }
      ]
    }
  ]
}