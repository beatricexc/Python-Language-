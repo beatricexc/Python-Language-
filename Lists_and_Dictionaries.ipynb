{
  "nbformat": 4,
  "nbformat_minor": 0,
  "metadata": {
    "colab": {
      "name": "Lists and Dictionaries.ipynb",
      "provenance": [],
      "authorship_tag": "ABX9TyPG84Jl8xN1PQJzVlBdS4/P",
      "include_colab_link": true
    },
    "kernelspec": {
      "name": "python3",
      "display_name": "Python 3"
    },
    "language_info": {
      "name": "python"
    }
  },
  "cells": [
    {
      "cell_type": "markdown",
      "metadata": {
        "id": "view-in-github",
        "colab_type": "text"
      },
      "source": [
        "<a href=\"https://colab.research.google.com/github/beatricexc/Python-Party/blob/main/Lists_and_Dictionaries.ipynb\" target=\"_parent\"><img src=\"https://colab.research.google.com/assets/colab-badge.svg\" alt=\"Open In Colab\"/></a>"
      ]
    },
    {
      "cell_type": "markdown",
      "metadata": {
        "id": "TmnzC0AvKNMx"
      },
      "source": [
        "###Activity 1.1\n",
        "\n",
        "You work for a company and have been asked to calculate the total profit made on the sales of a product. You are given a dictionary containing the cost price per unit (in pounds), sell price per unit (in pounds), and the starting inventory. Return the total profit made, rounded to the nearest pound."
      ]
    },
    {
      "cell_type": "code",
      "metadata": {
        "colab": {
          "base_uri": "https://localhost:8080/"
        },
        "id": "k_UaYkfcKOb2",
        "outputId": "0b944fff-2116-4282-ae4d-ded44622b76d"
      },
      "source": [
        "def profit(info):\n",
        "\tc, s, i = info['cost_price'], info['sell_price'], info['inventory']\n",
        "\treturn round((s * i) - (c * i))\n",
        "\n",
        "dictionary_1 = {\n",
        "  \"cost_price\": 32.67,\n",
        "  \"sell_price\": 45.00,\n",
        "  \"inventory\": 1200\n",
        "} \n",
        "\n",
        "dictionary_2 = {\n",
        "  \"cost_price\": 225.89,\n",
        "  \"sell_price\": 550.00,\n",
        "  \"inventory\": 100\n",
        "}\n",
        "\n",
        "dictionary_3 ={\n",
        "  \"cost_price\": 2.77,\n",
        "  \"sell_price\": 7.95,\n",
        "  \"inventory\": 8500\n",
        "}\n",
        "\n",
        "print(profit(dictionary_1))\n",
        "print(profit(dictionary_2))\n",
        "print(profit(dictionary_3))"
      ],
      "execution_count": 1,
      "outputs": [
        {
          "output_type": "stream",
          "name": "stdout",
          "text": [
            "14796\n",
            "32411\n",
            "44030\n"
          ]
        }
      ]
    },
    {
      "cell_type": "markdown",
      "metadata": {
        "id": "fzoLUUHoLFD8"
      },
      "source": [
        "###Activity 1.2\n",
        "\n",
        "In the cell below I want you to create a function that accepts a dictionary of student names and a list of their test scores over the semester, and returns a list of all the students who passed (in alphabetical order). Students pas if they score 70% and above.\n",
        "\n"
      ]
    },
    {
      "cell_type": "code",
      "metadata": {
        "colab": {
          "base_uri": "https://localhost:8080/"
        },
        "id": "bAeIiA-FLIUG",
        "outputId": "2b464a20-4ef4-431d-84de-baddcaea4dae"
      },
      "source": [
        "def who_passed(students):\n",
        "  passed = []\n",
        "  for s in students.items():\n",
        "    count = 0\n",
        "    for i in s[1]:\n",
        "      m = i.split('/')\n",
        "      if m[0] != m[1]:\n",
        "        count += 1\n",
        "    if count == 0:\n",
        "      passed.append(s[0])\n",
        "  return sorted(passed)\n",
        "\n",
        "\n",
        "\n",
        "dictionary_1 = {\n",
        "  \"Rob\" : [\"5/5\", \"50/50\", \"10/10\", \"10/10\"],\n",
        "  \"Sarah\" : [\"4/8\", \"50/57\", \"7/10\", \"10/18\"],\n",
        "  \"Adam\" : [\"8/10\", \"22/25\", \"3/5\", \"5/5\"],\n",
        "  \"Rebecca\" : [\"3/3\", \"20/20\"]\n",
        "}\n",
        "\n",
        "dictionary_2 = {\n",
        "  \"Rob\" : [\"10/10\"],\n",
        "  \"Rebecca\" : [\"30/30\"],\n",
        "  \"Chris\" : [\"100/100\"],\n",
        "  \"Donna\" : [\"1/1\"]\n",
        "}\n",
        "\n",
        "dictionary_3 = {\n",
        "  \"John\" : [\"10/10\", \"2/4\"],\n",
        "  \"Mary\" : [\"7/9\", \"2/3\"]\n",
        "}\n",
        "\n",
        "print(who_passed(dictionary_1))\n",
        "print(who_passed(dictionary_2))\n",
        "print(who_passed(dictionary_3))"
      ],
      "execution_count": 3,
      "outputs": [
        {
          "output_type": "stream",
          "name": "stdout",
          "text": [
            "['Rebecca', 'Rob']\n",
            "['Chris', 'Donna', 'Rebecca', 'Rob']\n",
            "[]\n"
          ]
        }
      ]
    },
    {
      "cell_type": "markdown",
      "metadata": {
        "id": "6A5OB6HuMkT6"
      },
      "source": [
        "### Activity 1.3\n",
        "\n",
        "<br>\n",
        "\n",
        "In the cell below I want you to create a function that given a list, returns the index where if split into two-lists, the sum of them are equal.\n",
        "\n",
        "<br>\n"
      ]
    },
    {
      "cell_type": "code",
      "metadata": {
        "colab": {
          "base_uri": "https://localhost:8080/"
        },
        "id": "nTd6XLzRMwe6",
        "outputId": "606c346f-c59e-4078-d5da-85a776245881"
      },
      "source": [
        "def where_to_split(lst):\n",
        "    s_half, s_acc = sum(lst) / 2, 0\n",
        "    for i in range(len(lst)):\n",
        "        s_acc += lst[i]\n",
        "        if s_acc == s_half:\n",
        "            return i + 1\n",
        "    return 'not found'\n",
        "\n",
        "print(where_to_split([10, 20, 30, 5, 40, 50, 40, 15]))\n",
        "print(where_to_split([1, 2, 3, 4, 5, 5]))\n",
        "print(where_to_split([3, 3]))"
      ],
      "execution_count": 4,
      "outputs": [
        {
          "output_type": "stream",
          "name": "stdout",
          "text": [
            "5\n",
            "4\n",
            "1\n"
          ]
        }
      ]
    }
  ]
}